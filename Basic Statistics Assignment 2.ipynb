{
 "cells": [
  {
   "cell_type": "code",
   "execution_count": 1,
   "id": "da2cbded",
   "metadata": {},
   "outputs": [],
   "source": [
    "\"\"\"\n",
    "1. What are three measures of central tendency\n",
    "1) Mean\n",
    "2) Median\n",
    "3) Mode - \n",
    "\n",
    "2.What is the difference between the mean, median, and mode? How are they used to measure the\n",
    "central tendency of a dataset?\n",
    "\n",
    "Mean is used for Data which is not skewwed or have datapoints within ranges\n",
    "Median is used for Skewwed Data\n",
    "Mode  is used when data is categorical\n",
    "\n",
    "3.Measure the three measures of central tendency for the given height data:\n",
    "[178,177,176,177,178.2,178,175,179,180,175,178.9,176.2,177,172.5,178,176.5]\n",
    "Mean - 177.01875\n",
    "Mode - 170\n",
    "Median - 177.01875\n",
    "\n",
    "Q4. Find the standard deviation for the given data:\n",
    "[178,177,176,177,178.2,178,175,179,180,175,178.9,176.2,177,172.5,178,176.5]\n",
    "\n",
    "Standard Deviation - 1.7885814036548633\n",
    "\n",
    "Q5. How are measures of dispersion such as range, variance, and standard deviation used to describe\n",
    "the spread of a dataset? Provide an example.\n",
    "\n",
    "Lets suppose X be random variable whose Variance , Range & Standard Deviation\n",
    "\n",
    "Variance(X) = cov(x,x) it shows spread of data.\n",
    "\n",
    "Standard Deviation(X) = its positive square root of Variance \n",
    "it shows on an average how data is varying from mean.\n",
    "\n",
    "Range(X) - Difference between Max and Min Value.\n",
    "\n",
    "Q6. What is a Venn diagram?\n",
    "Venn Diagram is representation of set(well defined collection of objects) in circles\n",
    "\n",
    "Q7. For the two given sets A = (2,3,4,5,6,7) & B = (0,2,6,8,10). Find:\n",
    "(i) A intersection B\n",
    "(ii) A union B\n",
    "\n",
    "i - {2,6}\n",
    "ii - {0,2,3,4,5,6,7,8,10}\n",
    "\n",
    "Q8. What do you understand about skewness in data?\n",
    "\n",
    "Skewness is degree by which data is having outliers.\n",
    "if skewness is -ve data is having outliers in negative direction\n",
    "if skewness is +ve data is having outliers in positive direction\n",
    "\n",
    "Q9. If a data is right skewed then what will be the position of median with respect to mean?\n",
    "\n",
    "mode > median > mean\n",
    "\n",
    "Q10. Explain the difference between covariance and correlation. How are these measures used in\n",
    "statistical analysis?\n",
    "- Covariance gives us relationship between X and Y. -ve value states negative Relationship i.e X increasing Y decreasing \n",
    "while Y increasing X decreasing \n",
    "\n",
    "+ ve value gives Postive relationship i.e. as X increases Y increases and Vice-Versa\n",
    "\n",
    "but covariance has no range...So it doesnt specify strong relationship for greater values...\n",
    "\n",
    "Correlation - it has range strictly between -1 to +1\n",
    "if value is more towards 1 we can say x and y are having strong relationship.\n",
    "if value is more towards -1 we can say x and y are having weak relationship.\n",
    "if value is 0 x and y have no correlation\n",
    "\n",
    "So, showing strength with increasing value is additional feature for correlation. and that is the main difference\n",
    "\n",
    "\n",
    "Q11. What is the formula for calculating the sample mean? Provide an example calculation for a\n",
    "dataset.\n",
    "\n",
    "in sample mean we ommit 1 point from dataset which is mean.. as there is not point to add 0 in additition of xi\n",
    "so\n",
    "formula is summation(xi)/(n-1)\n",
    "\n",
    "code for calculation of mean in dataset.\n",
    "import numpy as np\n",
    "import pandas as pd\n",
    "data = pd.read_csv(\"path\")\n",
    "###suppose data is having column name \"weight\"\n",
    "np.mean(data['weight'])\n",
    "\n",
    "Q12. For a normal distribution data what is the relationship between its measure of central tendency?\n",
    "\n",
    "mean = median = mode\n",
    "as data has No Skewness\n",
    "\n",
    "Q13. How is covariance different from correlation?\n",
    "ovariance gives us relationship between X and Y. -ve value states negative Relationship i.e X increasing Y decreasing \n",
    "while Y increasing X decreasing \n",
    "\n",
    "+ ve value gives Postive relationship i.e. as X increases Y increases and Vice-Versa\n",
    "\n",
    "but covariance has no range...So it doesnt specify strong relationship for greater values...\n",
    "\n",
    "Correlation - it has range strictly between -1 to +1\n",
    "if value is more towards 1 we can say x and y are having strong relationship.\n",
    "if value is more towards -1 we can say x and y are having weak relationship.\n",
    "if value is 0 x and y have no correlation\n",
    "\n",
    "So, showing strength with increasing value is additional feature for correlation. and that is the main difference\n",
    "\n",
    "Q14. How do outliers affect measures of central tendency and dispersion? Provide an example.\n",
    "\n",
    "disturbance on measures of central tendencies\n",
    "mean - mean will be greater almost for 75% data approximately OR lesser than 25% of data.\n",
    "median - it is the best measure of central tendency for skewed data\n",
    "mode - mode will also be either very greater or lower will not show midvalue in data\n",
    "\n",
    "Disturbance on Measures of dispersion\n",
    "Variance - value of variance will be more as data has more spread\n",
    "standard deviation - same as variance \n",
    "Range - it will also be greater \n",
    "\n",
    "\n",
    "\n",
    "\"\"\"\n",
    "\n",
    "import numpy as np\n",
    "from scipy import stats\n",
    "\n"
   ]
  },
  {
   "cell_type": "code",
   "execution_count": 6,
   "id": "49dad2b4",
   "metadata": {},
   "outputs": [
    {
     "ename": "SyntaxError",
     "evalue": "invalid syntax (2041599356.py, line 3)",
     "output_type": "error",
     "traceback": [
      "\u001b[1;36m  Input \u001b[1;32mIn [6]\u001b[1;36m\u001b[0m\n\u001b[1;33m    print(np.median(data))\u001b[0m\n\u001b[1;37m    ^\u001b[0m\n\u001b[1;31mSyntaxError\u001b[0m\u001b[1;31m:\u001b[0m invalid syntax\n"
     ]
    }
   ],
   "source": [
    "data = [178,177,176,177,178.2,178,175,179,180,175,178.9,176.2,177,172.5,178,176.5]\n",
    "print(np.mean(data)\n",
    "print(np.median(data))\n"
   ]
  },
  {
   "cell_type": "code",
   "execution_count": 10,
   "id": "0b4da020",
   "metadata": {},
   "outputs": [],
   "source": [
    "data = [178,177,176,177,178.2,178,175,179,180,175,178.9,176.2,177,172.5,178,176.5]\n",
    "\n"
   ]
  },
  {
   "cell_type": "code",
   "execution_count": 16,
   "id": "88ec6633",
   "metadata": {},
   "outputs": [
    {
     "data": {
      "text/plain": [
       "3.199023437500001"
      ]
     },
     "execution_count": 16,
     "metadata": {},
     "output_type": "execute_result"
    }
   ],
   "source": [
    "np.var(data)"
   ]
  },
  {
   "cell_type": "code",
   "execution_count": 12,
   "id": "a2e0bdd1",
   "metadata": {},
   "outputs": [
    {
     "data": {
      "text/plain": [
       "177.0"
      ]
     },
     "execution_count": 12,
     "metadata": {},
     "output_type": "execute_result"
    }
   ],
   "source": [
    "np.median(data)"
   ]
  },
  {
   "cell_type": "code",
   "execution_count": 13,
   "id": "f37d75be",
   "metadata": {},
   "outputs": [],
   "source": [
    "from scipy import stats\n"
   ]
  },
  {
   "cell_type": "code",
   "execution_count": 14,
   "id": "fd38ad2a",
   "metadata": {},
   "outputs": [
    {
     "data": {
      "text/plain": [
       "ModeResult(mode=array([177.]), count=array([3]))"
      ]
     },
     "execution_count": 14,
     "metadata": {},
     "output_type": "execute_result"
    }
   ],
   "source": [
    "stats.mode(data)"
   ]
  },
  {
   "cell_type": "code",
   "execution_count": null,
   "id": "ece50ded",
   "metadata": {},
   "outputs": [],
   "source": []
  }
 ],
 "metadata": {
  "kernelspec": {
   "display_name": "Python 3 (ipykernel)",
   "language": "python",
   "name": "python3"
  },
  "language_info": {
   "codemirror_mode": {
    "name": "ipython",
    "version": 3
   },
   "file_extension": ".py",
   "mimetype": "text/x-python",
   "name": "python",
   "nbconvert_exporter": "python",
   "pygments_lexer": "ipython3",
   "version": "3.9.12"
  }
 },
 "nbformat": 4,
 "nbformat_minor": 5
}
